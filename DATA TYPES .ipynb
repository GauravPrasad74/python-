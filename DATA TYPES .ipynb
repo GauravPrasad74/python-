{
 "cells": [
  {
   "cell_type": "markdown",
   "id": "8c20cf41",
   "metadata": {},
   "source": [
    "### Data Types"
   ]
  },
  {
   "cell_type": "markdown",
   "id": "064595ea",
   "metadata": {},
   "source": [
    "### 1 int ->integer(number without decmail point)\n"
   ]
  },
  {
   "cell_type": "code",
   "execution_count": 1,
   "id": "53f1b3c5",
   "metadata": {},
   "outputs": [
    {
     "data": {
      "text/plain": [
       "int"
      ]
     },
     "execution_count": 1,
     "metadata": {},
     "output_type": "execute_result"
    }
   ],
   "source": [
    "x=5\n",
    "type(x)"
   ]
  },
  {
   "cell_type": "markdown",
   "id": "f25b04f9",
   "metadata": {},
   "source": [
    "### 2 float decmail point"
   ]
  },
  {
   "cell_type": "code",
   "execution_count": 3,
   "id": "ef668b2d",
   "metadata": {},
   "outputs": [
    {
     "data": {
      "text/plain": [
       "float"
      ]
     },
     "execution_count": 3,
     "metadata": {},
     "output_type": "execute_result"
    }
   ],
   "source": [
    "x=1.7\n",
    "type(x)"
   ]
  },
  {
   "cell_type": "markdown",
   "id": "b8c4ff0a",
   "metadata": {},
   "source": [
    "### 3 str string(text data  type)"
   ]
  },
  {
   "cell_type": "code",
   "execution_count": 4,
   "id": "1eb71ba5",
   "metadata": {},
   "outputs": [
    {
     "data": {
      "text/plain": [
       "str"
      ]
     },
     "execution_count": 4,
     "metadata": {},
     "output_type": "execute_result"
    }
   ],
   "source": [
    "name =\"GAURAV\"\n",
    "type(name)"
   ]
  },
  {
   "cell_type": "markdown",
   "id": "cc7d2edf",
   "metadata": {},
   "source": [
    "###  4 Bool Boolean(True /False)"
   ]
  },
  {
   "cell_type": "code",
   "execution_count": 6,
   "id": "ec4ba7d5",
   "metadata": {},
   "outputs": [
    {
     "data": {
      "text/plain": [
       "bool"
      ]
     },
     "execution_count": 6,
     "metadata": {},
     "output_type": "execute_result"
    }
   ],
   "source": [
    "z= False\n",
    "type(z)"
   ]
  },
  {
   "cell_type": "code",
   "execution_count": null,
   "id": "029e6594",
   "metadata": {},
   "outputs": [],
   "source": []
  }
 ],
 "metadata": {
  "kernelspec": {
   "display_name": "Python 3 (ipykernel)",
   "language": "python",
   "name": "python3"
  },
  "language_info": {
   "codemirror_mode": {
    "name": "ipython",
    "version": 3
   },
   "file_extension": ".py",
   "mimetype": "text/x-python",
   "name": "python",
   "nbconvert_exporter": "python",
   "pygments_lexer": "ipython3",
   "version": "3.9.7"
  }
 },
 "nbformat": 4,
 "nbformat_minor": 5
}
